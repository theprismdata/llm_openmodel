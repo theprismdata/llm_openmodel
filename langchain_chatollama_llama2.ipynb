{
 "cells": [
  {
   "cell_type": "code",
   "execution_count": 15,
   "id": "82215c00-6516-499e-b5fa-ef71e028ea5b",
   "metadata": {},
   "outputs": [],
   "source": [
    "import torch\n",
    "import gc"
   ]
  },
  {
   "cell_type": "code",
   "execution_count": 16,
   "id": "9d61f6d6-0c80-4544-adcc-dd8faeb5ebcb",
   "metadata": {},
   "outputs": [],
   "source": [
    "def cleanup():\n",
    "    if 'model' in globals():\n",
    "        del globals()['model']\n",
    "    if 'dataset' in globals():\n",
    "        del globals()['dataset']\n",
    "    gc.collect()\n",
    "    torch.cuda.empty_cache()\n",
    "cleanup()"
   ]
  },
  {
   "cell_type": "code",
   "execution_count": 17,
   "id": "a64fa630-bc72-4e52-a663-47f34c4382ac",
   "metadata": {},
   "outputs": [],
   "source": [
    "from langchain_community.embeddings import OllamaEmbeddings\n",
    "from langchain_community.llms import Ollama\n",
    "from langchain_core.messages import AIMessage\n",
    "from langchain_ollama import ChatOllama"
   ]
  },
  {
   "cell_type": "code",
   "execution_count": 18,
   "id": "456dbf8c-f883-4725-9581-beb597bd6d70",
   "metadata": {},
   "outputs": [],
   "source": [
    "#!ollama pull llama2"
   ]
  },
  {
   "cell_type": "code",
   "execution_count": 21,
   "id": "0479a113-c77d-42e5-a598-057d047c15ef",
   "metadata": {},
   "outputs": [],
   "source": [
    "llm = ChatOllama(\n",
    "    model=\"llama2\",\n",
    "    temperature=0,\n",
    ")"
   ]
  },
  {
   "cell_type": "code",
   "execution_count": 23,
   "id": "9ddc6f11-44f1-43db-95ee-90b0cf737bc8",
   "metadata": {},
   "outputs": [],
   "source": [
    "messages = [\n",
    "    (\n",
    "        \"system\",\n",
    "        \"You are a helpful assistant. Answer my question in korean\",\n",
    "    ),\n",
    "    (\"human\", \"강남의 맛집을 알려줘\"),\n",
    "]\n",
    "ai_msg = llm.invoke(messages)"
   ]
  },
  {
   "cell_type": "code",
   "execution_count": 24,
   "id": "3cc0f411-332e-4916-8434-a0e787a72274",
   "metadata": {},
   "outputs": [
    {
     "name": "stdout",
     "output_type": "stream",
     "text": [
      "content='\"강남의 맛집? 잘 알고 있어요! 강남에는 많은 delicious restaurant exist, but here are some of the most popular ones:\\n\\n1. Sinsaenum - Known for its modern Korean cuisine and trendy atmosphere.\\n2. Jji Jji - Offers a unique blend of traditional Korean flavors with a modern twist.\\n3. Gwangjang Market - A must-visit destination for any foodie, this bustling market offers a wide variety of street food and restaurants serving up delicious Korean dishes.\\n4. Hanilkwan - A cozy restaurant serving up traditional Korean dishes with a focus on fresh, locally-sourced ingredients.\\n5. Bukchon Hanok Village - A charming village filled with traditional Korean houses, or hanoks, that offer a glimpse into the country\\'s rich cultural heritage.\"' additional_kwargs={} response_metadata={'model': 'llama2', 'created_at': '2024-12-13T04:26:58.9477108Z', 'done': True, 'done_reason': 'stop', 'total_duration': 31434610100, 'load_duration': 18483200, 'prompt_eval_count': 54, 'prompt_eval_duration': 373000000, 'eval_count': 222, 'eval_duration': 31042000000, 'message': Message(role='assistant', content='', images=None, tool_calls=None)} id='run-181b5239-e5c6-4edf-9755-21ce070752da-0' usage_metadata={'input_tokens': 54, 'output_tokens': 222, 'total_tokens': 276}\n"
     ]
    }
   ],
   "source": [
    "print(ai_msg)"
   ]
  },
  {
   "cell_type": "code",
   "execution_count": null,
   "id": "7f46679f-7458-4954-b1aa-8da4e745e997",
   "metadata": {},
   "outputs": [],
   "source": []
  }
 ],
 "metadata": {
  "kernelspec": {
   "display_name": "Python 3 (ipykernel)",
   "language": "python",
   "name": "python3"
  },
  "language_info": {
   "codemirror_mode": {
    "name": "ipython",
    "version": 3
   },
   "file_extension": ".py",
   "mimetype": "text/x-python",
   "name": "python",
   "nbconvert_exporter": "python",
   "pygments_lexer": "ipython3",
   "version": "3.10.11"
  }
 },
 "nbformat": 4,
 "nbformat_minor": 5
}
